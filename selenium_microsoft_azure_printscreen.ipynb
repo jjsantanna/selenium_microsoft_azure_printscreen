{
 "cells": [
  {
   "cell_type": "markdown",
   "id": "scenic-bargain",
   "metadata": {},
   "source": [
    "# Semi-automated printscreen of Microsoft and Azure-related links"
   ]
  },
  {
   "cell_type": "code",
   "execution_count": null,
   "id": "partial-knight",
   "metadata": {},
   "outputs": [],
   "source": [
    "!pip install selenium"
   ]
  },
  {
   "cell_type": "code",
   "execution_count": 23,
   "id": "going-seeking",
   "metadata": {},
   "outputs": [],
   "source": [
    "from selenium import webdriver\n",
    "from webdriver_manager.chrome import ChromeDriverManager\n",
    "import time"
   ]
  },
  {
   "cell_type": "markdown",
   "id": "funny-baghdad",
   "metadata": {},
   "source": [
    "# Creating a session and openning portal.azure.com (for authentication)"
   ]
  },
  {
   "cell_type": "code",
   "execution_count": 36,
   "id": "cubic-resort",
   "metadata": {
    "scrolled": true
   },
   "outputs": [],
   "source": [
    "driver = webdriver.Chrome(ChromeDriverManager().install())\n",
    "driver.get(\"https://portal.azure.com\")"
   ]
  },
  {
   "cell_type": "markdown",
   "id": "attempted-glucose",
   "metadata": {},
   "source": [
    "# NOW, DO THE AUTHENTICATION MANUALLY! and return here!"
   ]
  },
  {
   "cell_type": "markdown",
   "id": "executive-column",
   "metadata": {},
   "source": [
    "# 1. Getting the picture of Microsoft licenses"
   ]
  },
  {
   "cell_type": "code",
   "execution_count": 47,
   "id": "immediate-latin",
   "metadata": {},
   "outputs": [
    {
     "data": {
      "text/plain": [
       "True"
      ]
     },
     "execution_count": 47,
     "metadata": {},
     "output_type": "execute_result"
    }
   ],
   "source": [
    "driver.get('https://admin.microsoft.com/#/licenses')\n",
    "time.sleep(2)\n",
    "driver.save_screenshot(\"screenshot_microsoft_licenses.png\")"
   ]
  },
  {
   "cell_type": "markdown",
   "id": "computational-appointment",
   "metadata": {},
   "source": [
    "# 2. Getting the list of Global Admins"
   ]
  },
  {
   "cell_type": "code",
   "execution_count": 50,
   "id": "substantial-reserve",
   "metadata": {},
   "outputs": [
    {
     "data": {
      "text/plain": [
       "True"
      ]
     },
     "execution_count": 50,
     "metadata": {},
     "output_type": "execute_result"
    }
   ],
   "source": [
    "driver.get('https://admin.microsoft.com/#/rbac/directory/:/rbac/directory/62e90394-69f5-4237-9190-012177145e10/details/assigned')\n",
    "time.sleep(5)\n",
    "driver.save_screenshot(\"screenshot_global_admins.png\")"
   ]
  },
  {
   "cell_type": "markdown",
   "id": "prescription-peripheral",
   "metadata": {},
   "source": [
    "# Don't forget to close the drive"
   ]
  },
  {
   "cell_type": "code",
   "execution_count": null,
   "id": "gentle-latter",
   "metadata": {},
   "outputs": [],
   "source": [
    "driver.close()"
   ]
  }
 ],
 "metadata": {
  "kernelspec": {
   "display_name": "Python 3",
   "language": "python",
   "name": "python3"
  },
  "language_info": {
   "codemirror_mode": {
    "name": "ipython",
    "version": 3
   },
   "file_extension": ".py",
   "mimetype": "text/x-python",
   "name": "python",
   "nbconvert_exporter": "python",
   "pygments_lexer": "ipython3",
   "version": "3.8.9"
  }
 },
 "nbformat": 4,
 "nbformat_minor": 5
}
